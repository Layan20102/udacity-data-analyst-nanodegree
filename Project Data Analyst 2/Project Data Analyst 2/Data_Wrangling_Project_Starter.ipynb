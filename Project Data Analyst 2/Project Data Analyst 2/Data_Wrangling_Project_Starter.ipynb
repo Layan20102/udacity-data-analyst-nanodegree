{
  "cells": [
    {
      "cell_type": "markdown",
      "metadata": {
        "id": "GNIwe5N7s0e_"
      },
      "source": [
        "### 📊 Exploring the Relationship Between Population Size and GDP per Capita\n",
        "\n",
        "\n",
        "In a world marked by significant economic disparities, it is often assumed that a larger population negatively impacts a country's GDP per capita. But is this assumption always true?\n",
        "\n",
        "In this analysis, we explore the relationship between **population size** and **GDP per capita** across a set of countries in a specific year. Our goal is to answer the following question:\n",
        "\n",
        "> **Is there a clear relationship between a country's population size and the level of income per person?**\n",
        "\n",
        "To investigate this, we will calculate the GDP per capita for each country and use both statistical and visual tools to uncover potential patterns or trends. This will help us better understand how these two key economic indicators might be connected.\n",
        "\n"
      ]
    },
    {
      "cell_type": "markdown",
      "metadata": {
        "id": "7e6gS0wL1KTu"
      },
      "source": [
        "#### **Dataset 1**\n",
        "\n",
        "**Type:** Data retrieved programmatically via API (Economic data from World Bank API)\n",
        "\n",
        "**Method:** The data was gathered programmatically by accessing the *World Bank API* using the `pandas-datareader` library's `wb.download()` function.\n",
        "\n",
        "**Dataset variables:**\n",
        "\n",
        "* `country`: Name of the country\n",
        "* `year`: Year\n",
        "* `GDP`: Gross Domestic Product in current US dollars (market value)\n",
        "\n",
        "**Why I picked this dataset:**\n",
        "I chose the World Bank GDP dataset because it provides reliable, up-to-date, and internationally recognized economic indicators. Since my goal is to understand how a country's population size may influence its economic performance, having accurate data on Gross Domestic Product is crucial. The World Bank API allows for programmatic access to historical GDP values across multiple countries and years, enabling flexible analysis and comparisons. This makes it an ideal source for exploring economic patterns in a structured and scalable way."
      ]
    },
    {
      "cell_type": "code",
      "source": [
        "!pip install pandas-datareader"
      ],
      "metadata": {
        "colab": {
          "base_uri": "https://localhost:8080/"
        },
        "collapsed": true,
        "id": "bnPGLW2JjnhR",
        "outputId": "15ffe627-e395-4391-ef74-e91aab3a79cc"
      },
      "execution_count": 5,
      "outputs": [
        {
          "output_type": "stream",
          "name": "stdout",
          "text": [
            "Requirement already satisfied: pandas-datareader in /usr/local/lib/python3.11/dist-packages (0.10.0)\n",
            "Requirement already satisfied: lxml in /usr/local/lib/python3.11/dist-packages (from pandas-datareader) (5.4.0)\n",
            "Requirement already satisfied: pandas>=0.23 in /usr/local/lib/python3.11/dist-packages (from pandas-datareader) (2.2.2)\n",
            "Requirement already satisfied: requests>=2.19.0 in /usr/local/lib/python3.11/dist-packages (from pandas-datareader) (2.32.3)\n",
            "Requirement already satisfied: numpy>=1.23.2 in /usr/local/lib/python3.11/dist-packages (from pandas>=0.23->pandas-datareader) (2.0.2)\n",
            "Requirement already satisfied: python-dateutil>=2.8.2 in /usr/local/lib/python3.11/dist-packages (from pandas>=0.23->pandas-datareader) (2.9.0.post0)\n",
            "Requirement already satisfied: pytz>=2020.1 in /usr/local/lib/python3.11/dist-packages (from pandas>=0.23->pandas-datareader) (2025.2)\n",
            "Requirement already satisfied: tzdata>=2022.7 in /usr/local/lib/python3.11/dist-packages (from pandas>=0.23->pandas-datareader) (2025.2)\n",
            "Requirement already satisfied: charset-normalizer<4,>=2 in /usr/local/lib/python3.11/dist-packages (from requests>=2.19.0->pandas-datareader) (3.4.2)\n",
            "Requirement already satisfied: idna<4,>=2.5 in /usr/local/lib/python3.11/dist-packages (from requests>=2.19.0->pandas-datareader) (3.10)\n",
            "Requirement already satisfied: urllib3<3,>=1.21.1 in /usr/local/lib/python3.11/dist-packages (from requests>=2.19.0->pandas-datareader) (2.4.0)\n",
            "Requirement already satisfied: certifi>=2017.4.17 in /usr/local/lib/python3.11/dist-packages (from requests>=2.19.0->pandas-datareader) (2025.7.9)\n",
            "Requirement already satisfied: six>=1.5 in /usr/local/lib/python3.11/dist-packages (from python-dateutil>=2.8.2->pandas>=0.23->pandas-datareader) (1.17.0)\n"
          ]
        }
      ]
    },
    {
      "cell_type": "code",
      "source": [
        "import pandas_datareader.wb as wb\n",
        "import pandas as pd\n",
        "\n",
        "indicators = {\"NY.GDP.MKTP.CD\": \"GDP\"}\n",
        "\n",
        "gdp_data = wb.download(indicator=list(indicators.keys()), country='all', start=2010, end=2015)\n",
        "\n",
        "gdp_data.rename(columns=indicators, inplace=True)\n",
        "\n",
        "print(gdp_data.head())"
      ],
      "metadata": {
        "colab": {
          "base_uri": "https://localhost:8080/"
        },
        "id": "CgkjLMMtjs5y",
        "outputId": "b4dbb6de-0539-48b2-86cd-ef6f951bda16"
      },
      "execution_count": 6,
      "outputs": [
        {
          "output_type": "stream",
          "name": "stdout",
          "text": [
            "                                           GDP\n",
            "country                     year              \n",
            "Africa Eastern and Southern 2015  8.983089e+11\n",
            "                            2014  9.787438e+11\n",
            "                            2013  9.624413e+11\n",
            "                            2012  9.529985e+11\n",
            "                            2011  9.454390e+11\n"
          ]
        },
        {
          "output_type": "stream",
          "name": "stderr",
          "text": [
            "/tmp/ipython-input-6-2586019635.py:6: FutureWarning: errors='ignore' is deprecated and will raise in a future version. Use to_numeric without passing `errors` and catch exceptions explicitly instead\n",
            "  gdp_data = wb.download(indicator=list(indicators.keys()), country='all', start=2010, end=2015)\n"
          ]
        }
      ]
    },
    {
      "cell_type": "markdown",
      "source": [
        "\n",
        "#### Dataset 2\n",
        "\n",
        "**Type:** CSV File (Population data from World Population dataset)\n",
        "\n",
        "**Method:** The data was gathered using the *manual download* method from the World Population Dataset source.\n",
        "\n",
        "**Dataset variables:**\n",
        "\n",
        "* `Rank`: Global population rank of the country\n",
        "* `CCA3`: ISO 3166-1 alpha-3 country code\n",
        "* `Country/Territory`: Name of the country or territory\n",
        "* `Capital`: Capital city of the country\n",
        "* `Continent`: Continent where the country is located\n",
        "* `2022 Population`: Population in the year 2022\n",
        "* `2020 Population`: Population in the year 2020\n",
        "* `2015 Population`: Population in the year 2015\n",
        "* `2010 Population`: Population in the year 2010\n",
        "* `2000 Population`: Population in the year 2000\n",
        "* `1990 Population`: Population in the year 1990\n",
        "* `1980 Population`: Population in the year 1980\n",
        "* `1970 Population`: Population in the year 1970\n",
        "* `Area (km²)`: Total land area of the country in square kilometers\n",
        "* `Density (per km²)`: Population density (people per square kilometer)\n",
        "* `Growth Rate`: Annual population growth rate\n",
        "* `World Population Percentage`: Percentage of the world’s total population represented by this country\n",
        "\n",
        "\n",
        "**Why I picked this dataset:**\n",
        "This population dataset was selected because it offers comprehensive demographic information for a wide range of countries and time periods. It includes historical population data from 1970 to 2022, as well as details like land area, growth rate, and population density. These attributes are essential for analyzing how population changes may relate to economic output. By integrating this with GDP data, we can calculate GDP per capita and investigate whether population size correlates with individual prosperity in different countries."
      ],
      "metadata": {
        "id": "CCYlgBCYn9SB"
      }
    },
    {
      "cell_type": "code",
      "execution_count": 7,
      "metadata": {
        "id": "Su8E0uLuYkHU",
        "colab": {
          "base_uri": "https://localhost:8080/",
          "height": 296
        },
        "outputId": "fcc8780b-ed96-4b00-ba28-fe893359b4cc"
      },
      "outputs": [
        {
          "output_type": "execute_result",
          "data": {
            "text/plain": [
              "   Rank CCA3 Country/Territory           Capital Continent  2022 Population  \\\n",
              "0    36  AFG       Afghanistan             Kabul      Asia         41128771   \n",
              "1   138  ALB           Albania            Tirana    Europe          2842321   \n",
              "2    34  DZA           Algeria           Algiers    Africa         44903225   \n",
              "3   213  ASM    American Samoa         Pago Pago   Oceania            44273   \n",
              "4   203  AND           Andorra  Andorra la Vella    Europe            79824   \n",
              "\n",
              "   2020 Population  2015 Population  2010 Population  2000 Population  \\\n",
              "0         38972230         33753499         28189672         19542982   \n",
              "1          2866849          2882481          2913399          3182021   \n",
              "2         43451666         39543154         35856344         30774621   \n",
              "3            46189            51368            54849            58230   \n",
              "4            77700            71746            71519            66097   \n",
              "\n",
              "   1990 Population  1980 Population  1970 Population  Area (km²)  \\\n",
              "0         10694796         12486631         10752971      652230   \n",
              "1          3295066          2941651          2324731       28748   \n",
              "2         25518074         18739378         13795915     2381741   \n",
              "3            47818            32886            27075         199   \n",
              "4            53569            35611            19860         468   \n",
              "\n",
              "   Density (per km²)  Growth Rate  World Population Percentage  \n",
              "0            63.0587       1.0257                         0.52  \n",
              "1            98.8702       0.9957                         0.04  \n",
              "2            18.8531       1.0164                         0.56  \n",
              "3           222.4774       0.9831                         0.00  \n",
              "4           170.5641       1.0100                         0.00  "
            ],
            "text/html": [
              "\n",
              "  <div id=\"df-4a837b8a-0d2d-4ddb-929b-a6615f5cc67e\" class=\"colab-df-container\">\n",
              "    <div>\n",
              "<style scoped>\n",
              "    .dataframe tbody tr th:only-of-type {\n",
              "        vertical-align: middle;\n",
              "    }\n",
              "\n",
              "    .dataframe tbody tr th {\n",
              "        vertical-align: top;\n",
              "    }\n",
              "\n",
              "    .dataframe thead th {\n",
              "        text-align: right;\n",
              "    }\n",
              "</style>\n",
              "<table border=\"1\" class=\"dataframe\">\n",
              "  <thead>\n",
              "    <tr style=\"text-align: right;\">\n",
              "      <th></th>\n",
              "      <th>Rank</th>\n",
              "      <th>CCA3</th>\n",
              "      <th>Country/Territory</th>\n",
              "      <th>Capital</th>\n",
              "      <th>Continent</th>\n",
              "      <th>2022 Population</th>\n",
              "      <th>2020 Population</th>\n",
              "      <th>2015 Population</th>\n",
              "      <th>2010 Population</th>\n",
              "      <th>2000 Population</th>\n",
              "      <th>1990 Population</th>\n",
              "      <th>1980 Population</th>\n",
              "      <th>1970 Population</th>\n",
              "      <th>Area (km²)</th>\n",
              "      <th>Density (per km²)</th>\n",
              "      <th>Growth Rate</th>\n",
              "      <th>World Population Percentage</th>\n",
              "    </tr>\n",
              "  </thead>\n",
              "  <tbody>\n",
              "    <tr>\n",
              "      <th>0</th>\n",
              "      <td>36</td>\n",
              "      <td>AFG</td>\n",
              "      <td>Afghanistan</td>\n",
              "      <td>Kabul</td>\n",
              "      <td>Asia</td>\n",
              "      <td>41128771</td>\n",
              "      <td>38972230</td>\n",
              "      <td>33753499</td>\n",
              "      <td>28189672</td>\n",
              "      <td>19542982</td>\n",
              "      <td>10694796</td>\n",
              "      <td>12486631</td>\n",
              "      <td>10752971</td>\n",
              "      <td>652230</td>\n",
              "      <td>63.0587</td>\n",
              "      <td>1.0257</td>\n",
              "      <td>0.52</td>\n",
              "    </tr>\n",
              "    <tr>\n",
              "      <th>1</th>\n",
              "      <td>138</td>\n",
              "      <td>ALB</td>\n",
              "      <td>Albania</td>\n",
              "      <td>Tirana</td>\n",
              "      <td>Europe</td>\n",
              "      <td>2842321</td>\n",
              "      <td>2866849</td>\n",
              "      <td>2882481</td>\n",
              "      <td>2913399</td>\n",
              "      <td>3182021</td>\n",
              "      <td>3295066</td>\n",
              "      <td>2941651</td>\n",
              "      <td>2324731</td>\n",
              "      <td>28748</td>\n",
              "      <td>98.8702</td>\n",
              "      <td>0.9957</td>\n",
              "      <td>0.04</td>\n",
              "    </tr>\n",
              "    <tr>\n",
              "      <th>2</th>\n",
              "      <td>34</td>\n",
              "      <td>DZA</td>\n",
              "      <td>Algeria</td>\n",
              "      <td>Algiers</td>\n",
              "      <td>Africa</td>\n",
              "      <td>44903225</td>\n",
              "      <td>43451666</td>\n",
              "      <td>39543154</td>\n",
              "      <td>35856344</td>\n",
              "      <td>30774621</td>\n",
              "      <td>25518074</td>\n",
              "      <td>18739378</td>\n",
              "      <td>13795915</td>\n",
              "      <td>2381741</td>\n",
              "      <td>18.8531</td>\n",
              "      <td>1.0164</td>\n",
              "      <td>0.56</td>\n",
              "    </tr>\n",
              "    <tr>\n",
              "      <th>3</th>\n",
              "      <td>213</td>\n",
              "      <td>ASM</td>\n",
              "      <td>American Samoa</td>\n",
              "      <td>Pago Pago</td>\n",
              "      <td>Oceania</td>\n",
              "      <td>44273</td>\n",
              "      <td>46189</td>\n",
              "      <td>51368</td>\n",
              "      <td>54849</td>\n",
              "      <td>58230</td>\n",
              "      <td>47818</td>\n",
              "      <td>32886</td>\n",
              "      <td>27075</td>\n",
              "      <td>199</td>\n",
              "      <td>222.4774</td>\n",
              "      <td>0.9831</td>\n",
              "      <td>0.00</td>\n",
              "    </tr>\n",
              "    <tr>\n",
              "      <th>4</th>\n",
              "      <td>203</td>\n",
              "      <td>AND</td>\n",
              "      <td>Andorra</td>\n",
              "      <td>Andorra la Vella</td>\n",
              "      <td>Europe</td>\n",
              "      <td>79824</td>\n",
              "      <td>77700</td>\n",
              "      <td>71746</td>\n",
              "      <td>71519</td>\n",
              "      <td>66097</td>\n",
              "      <td>53569</td>\n",
              "      <td>35611</td>\n",
              "      <td>19860</td>\n",
              "      <td>468</td>\n",
              "      <td>170.5641</td>\n",
              "      <td>1.0100</td>\n",
              "      <td>0.00</td>\n",
              "    </tr>\n",
              "  </tbody>\n",
              "</table>\n",
              "</div>\n",
              "    <div class=\"colab-df-buttons\">\n",
              "\n",
              "  <div class=\"colab-df-container\">\n",
              "    <button class=\"colab-df-convert\" onclick=\"convertToInteractive('df-4a837b8a-0d2d-4ddb-929b-a6615f5cc67e')\"\n",
              "            title=\"Convert this dataframe to an interactive table.\"\n",
              "            style=\"display:none;\">\n",
              "\n",
              "  <svg xmlns=\"http://www.w3.org/2000/svg\" height=\"24px\" viewBox=\"0 -960 960 960\">\n",
              "    <path d=\"M120-120v-720h720v720H120Zm60-500h600v-160H180v160Zm220 220h160v-160H400v160Zm0 220h160v-160H400v160ZM180-400h160v-160H180v160Zm440 0h160v-160H620v160ZM180-180h160v-160H180v160Zm440 0h160v-160H620v160Z\"/>\n",
              "  </svg>\n",
              "    </button>\n",
              "\n",
              "  <style>\n",
              "    .colab-df-container {\n",
              "      display:flex;\n",
              "      gap: 12px;\n",
              "    }\n",
              "\n",
              "    .colab-df-convert {\n",
              "      background-color: #E8F0FE;\n",
              "      border: none;\n",
              "      border-radius: 50%;\n",
              "      cursor: pointer;\n",
              "      display: none;\n",
              "      fill: #1967D2;\n",
              "      height: 32px;\n",
              "      padding: 0 0 0 0;\n",
              "      width: 32px;\n",
              "    }\n",
              "\n",
              "    .colab-df-convert:hover {\n",
              "      background-color: #E2EBFA;\n",
              "      box-shadow: 0px 1px 2px rgba(60, 64, 67, 0.3), 0px 1px 3px 1px rgba(60, 64, 67, 0.15);\n",
              "      fill: #174EA6;\n",
              "    }\n",
              "\n",
              "    .colab-df-buttons div {\n",
              "      margin-bottom: 4px;\n",
              "    }\n",
              "\n",
              "    [theme=dark] .colab-df-convert {\n",
              "      background-color: #3B4455;\n",
              "      fill: #D2E3FC;\n",
              "    }\n",
              "\n",
              "    [theme=dark] .colab-df-convert:hover {\n",
              "      background-color: #434B5C;\n",
              "      box-shadow: 0px 1px 3px 1px rgba(0, 0, 0, 0.15);\n",
              "      filter: drop-shadow(0px 1px 2px rgba(0, 0, 0, 0.3));\n",
              "      fill: #FFFFFF;\n",
              "    }\n",
              "  </style>\n",
              "\n",
              "    <script>\n",
              "      const buttonEl =\n",
              "        document.querySelector('#df-4a837b8a-0d2d-4ddb-929b-a6615f5cc67e button.colab-df-convert');\n",
              "      buttonEl.style.display =\n",
              "        google.colab.kernel.accessAllowed ? 'block' : 'none';\n",
              "\n",
              "      async function convertToInteractive(key) {\n",
              "        const element = document.querySelector('#df-4a837b8a-0d2d-4ddb-929b-a6615f5cc67e');\n",
              "        const dataTable =\n",
              "          await google.colab.kernel.invokeFunction('convertToInteractive',\n",
              "                                                    [key], {});\n",
              "        if (!dataTable) return;\n",
              "\n",
              "        const docLinkHtml = 'Like what you see? Visit the ' +\n",
              "          '<a target=\"_blank\" href=https://colab.research.google.com/notebooks/data_table.ipynb>data table notebook</a>'\n",
              "          + ' to learn more about interactive tables.';\n",
              "        element.innerHTML = '';\n",
              "        dataTable['output_type'] = 'display_data';\n",
              "        await google.colab.output.renderOutput(dataTable, element);\n",
              "        const docLink = document.createElement('div');\n",
              "        docLink.innerHTML = docLinkHtml;\n",
              "        element.appendChild(docLink);\n",
              "      }\n",
              "    </script>\n",
              "  </div>\n",
              "\n",
              "\n",
              "    <div id=\"df-c7471061-eee3-4be3-8d95-a751bd5a3e5a\">\n",
              "      <button class=\"colab-df-quickchart\" onclick=\"quickchart('df-c7471061-eee3-4be3-8d95-a751bd5a3e5a')\"\n",
              "                title=\"Suggest charts\"\n",
              "                style=\"display:none;\">\n",
              "\n",
              "<svg xmlns=\"http://www.w3.org/2000/svg\" height=\"24px\"viewBox=\"0 0 24 24\"\n",
              "     width=\"24px\">\n",
              "    <g>\n",
              "        <path d=\"M19 3H5c-1.1 0-2 .9-2 2v14c0 1.1.9 2 2 2h14c1.1 0 2-.9 2-2V5c0-1.1-.9-2-2-2zM9 17H7v-7h2v7zm4 0h-2V7h2v10zm4 0h-2v-4h2v4z\"/>\n",
              "    </g>\n",
              "</svg>\n",
              "      </button>\n",
              "\n",
              "<style>\n",
              "  .colab-df-quickchart {\n",
              "      --bg-color: #E8F0FE;\n",
              "      --fill-color: #1967D2;\n",
              "      --hover-bg-color: #E2EBFA;\n",
              "      --hover-fill-color: #174EA6;\n",
              "      --disabled-fill-color: #AAA;\n",
              "      --disabled-bg-color: #DDD;\n",
              "  }\n",
              "\n",
              "  [theme=dark] .colab-df-quickchart {\n",
              "      --bg-color: #3B4455;\n",
              "      --fill-color: #D2E3FC;\n",
              "      --hover-bg-color: #434B5C;\n",
              "      --hover-fill-color: #FFFFFF;\n",
              "      --disabled-bg-color: #3B4455;\n",
              "      --disabled-fill-color: #666;\n",
              "  }\n",
              "\n",
              "  .colab-df-quickchart {\n",
              "    background-color: var(--bg-color);\n",
              "    border: none;\n",
              "    border-radius: 50%;\n",
              "    cursor: pointer;\n",
              "    display: none;\n",
              "    fill: var(--fill-color);\n",
              "    height: 32px;\n",
              "    padding: 0;\n",
              "    width: 32px;\n",
              "  }\n",
              "\n",
              "  .colab-df-quickchart:hover {\n",
              "    background-color: var(--hover-bg-color);\n",
              "    box-shadow: 0 1px 2px rgba(60, 64, 67, 0.3), 0 1px 3px 1px rgba(60, 64, 67, 0.15);\n",
              "    fill: var(--button-hover-fill-color);\n",
              "  }\n",
              "\n",
              "  .colab-df-quickchart-complete:disabled,\n",
              "  .colab-df-quickchart-complete:disabled:hover {\n",
              "    background-color: var(--disabled-bg-color);\n",
              "    fill: var(--disabled-fill-color);\n",
              "    box-shadow: none;\n",
              "  }\n",
              "\n",
              "  .colab-df-spinner {\n",
              "    border: 2px solid var(--fill-color);\n",
              "    border-color: transparent;\n",
              "    border-bottom-color: var(--fill-color);\n",
              "    animation:\n",
              "      spin 1s steps(1) infinite;\n",
              "  }\n",
              "\n",
              "  @keyframes spin {\n",
              "    0% {\n",
              "      border-color: transparent;\n",
              "      border-bottom-color: var(--fill-color);\n",
              "      border-left-color: var(--fill-color);\n",
              "    }\n",
              "    20% {\n",
              "      border-color: transparent;\n",
              "      border-left-color: var(--fill-color);\n",
              "      border-top-color: var(--fill-color);\n",
              "    }\n",
              "    30% {\n",
              "      border-color: transparent;\n",
              "      border-left-color: var(--fill-color);\n",
              "      border-top-color: var(--fill-color);\n",
              "      border-right-color: var(--fill-color);\n",
              "    }\n",
              "    40% {\n",
              "      border-color: transparent;\n",
              "      border-right-color: var(--fill-color);\n",
              "      border-top-color: var(--fill-color);\n",
              "    }\n",
              "    60% {\n",
              "      border-color: transparent;\n",
              "      border-right-color: var(--fill-color);\n",
              "    }\n",
              "    80% {\n",
              "      border-color: transparent;\n",
              "      border-right-color: var(--fill-color);\n",
              "      border-bottom-color: var(--fill-color);\n",
              "    }\n",
              "    90% {\n",
              "      border-color: transparent;\n",
              "      border-bottom-color: var(--fill-color);\n",
              "    }\n",
              "  }\n",
              "</style>\n",
              "\n",
              "      <script>\n",
              "        async function quickchart(key) {\n",
              "          const quickchartButtonEl =\n",
              "            document.querySelector('#' + key + ' button');\n",
              "          quickchartButtonEl.disabled = true;  // To prevent multiple clicks.\n",
              "          quickchartButtonEl.classList.add('colab-df-spinner');\n",
              "          try {\n",
              "            const charts = await google.colab.kernel.invokeFunction(\n",
              "                'suggestCharts', [key], {});\n",
              "          } catch (error) {\n",
              "            console.error('Error during call to suggestCharts:', error);\n",
              "          }\n",
              "          quickchartButtonEl.classList.remove('colab-df-spinner');\n",
              "          quickchartButtonEl.classList.add('colab-df-quickchart-complete');\n",
              "        }\n",
              "        (() => {\n",
              "          let quickchartButtonEl =\n",
              "            document.querySelector('#df-c7471061-eee3-4be3-8d95-a751bd5a3e5a button');\n",
              "          quickchartButtonEl.style.display =\n",
              "            google.colab.kernel.accessAllowed ? 'block' : 'none';\n",
              "        })();\n",
              "      </script>\n",
              "    </div>\n",
              "\n",
              "    </div>\n",
              "  </div>\n"
            ],
            "application/vnd.google.colaboratory.intrinsic+json": {
              "type": "dataframe",
              "variable_name": "population_df",
              "summary": "{\n  \"name\": \"population_df\",\n  \"rows\": 234,\n  \"fields\": [\n    {\n      \"column\": \"Rank\",\n      \"properties\": {\n        \"dtype\": \"number\",\n        \"std\": 67,\n        \"min\": 1,\n        \"max\": 234,\n        \"num_unique_values\": 234,\n        \"samples\": [\n          184,\n          20,\n          218\n        ],\n        \"semantic_type\": \"\",\n        \"description\": \"\"\n      }\n    },\n    {\n      \"column\": \"CCA3\",\n      \"properties\": {\n        \"dtype\": \"string\",\n        \"num_unique_values\": 234,\n        \"samples\": [\n          \"GUF\",\n          \"THA\",\n          \"SMR\"\n        ],\n        \"semantic_type\": \"\",\n        \"description\": \"\"\n      }\n    },\n    {\n      \"column\": \"Country/Territory\",\n      \"properties\": {\n        \"dtype\": \"string\",\n        \"num_unique_values\": 234,\n        \"samples\": [\n          \"French Guiana\",\n          \"Thailand\",\n          \"San Marino\"\n        ],\n        \"semantic_type\": \"\",\n        \"description\": \"\"\n      }\n    },\n    {\n      \"column\": \"Capital\",\n      \"properties\": {\n        \"dtype\": \"string\",\n        \"num_unique_values\": 234,\n        \"samples\": [\n          \"Cayenne\",\n          \"Bangkok\",\n          \"San Marino\"\n        ],\n        \"semantic_type\": \"\",\n        \"description\": \"\"\n      }\n    },\n    {\n      \"column\": \"Continent\",\n      \"properties\": {\n        \"dtype\": \"category\",\n        \"num_unique_values\": 6,\n        \"samples\": [\n          \"Asia\",\n          \"Europe\",\n          \"South America\"\n        ],\n        \"semantic_type\": \"\",\n        \"description\": \"\"\n      }\n    },\n    {\n      \"column\": \"2022 Population\",\n      \"properties\": {\n        \"dtype\": \"number\",\n        \"std\": 136766424,\n        \"min\": 510,\n        \"max\": 1425887337,\n        \"num_unique_values\": 234,\n        \"samples\": [\n          304557,\n          71697030,\n          33660\n        ],\n        \"semantic_type\": \"\",\n        \"description\": \"\"\n      }\n    },\n    {\n      \"column\": \"2020 Population\",\n      \"properties\": {\n        \"dtype\": \"number\",\n        \"std\": 135589876,\n        \"min\": 520,\n        \"max\": 1424929781,\n        \"num_unique_values\": 234,\n        \"samples\": [\n          290969,\n          71475664,\n          34007\n        ],\n        \"semantic_type\": \"\",\n        \"description\": \"\"\n      }\n    },\n    {\n      \"column\": \"2015 Population\",\n      \"properties\": {\n        \"dtype\": \"number\",\n        \"std\": 130404992,\n        \"min\": 564,\n        \"max\": 1393715448,\n        \"num_unique_values\": 234,\n        \"samples\": [\n          257026,\n          70294397,\n          33570\n        ],\n        \"semantic_type\": \"\",\n        \"description\": \"\"\n      }\n    },\n    {\n      \"column\": \"2010 Population\",\n      \"properties\": {\n        \"dtype\": \"number\",\n        \"std\": 124218487,\n        \"min\": 596,\n        \"max\": 1348191368,\n        \"num_unique_values\": 234,\n        \"samples\": [\n          228453,\n          68270489,\n          31608\n        ],\n        \"semantic_type\": \"\",\n        \"description\": \"\"\n      }\n    },\n    {\n      \"column\": \"2000 Population\",\n      \"properties\": {\n        \"dtype\": \"number\",\n        \"std\": 111698206,\n        \"min\": 651,\n        \"max\": 1264099069,\n        \"num_unique_values\": 234,\n        \"samples\": [\n          164351,\n          63066603,\n          26823\n        ],\n        \"semantic_type\": \"\",\n        \"description\": \"\"\n      }\n    },\n    {\n      \"column\": \"1990 Population\",\n      \"properties\": {\n        \"dtype\": \"number\",\n        \"std\": 97832173,\n        \"min\": 700,\n        \"max\": 1153704252,\n        \"num_unique_values\": 234,\n        \"samples\": [\n          113931,\n          55228410,\n          23132\n        ],\n        \"semantic_type\": \"\",\n        \"description\": \"\"\n      }\n    },\n    {\n      \"column\": \"1980 Population\",\n      \"properties\": {\n        \"dtype\": \"number\",\n        \"std\": 81785186,\n        \"min\": 733,\n        \"max\": 982372466,\n        \"num_unique_values\": 234,\n        \"samples\": [\n          66825,\n          45737753,\n          21346\n        ],\n        \"semantic_type\": \"\",\n        \"description\": \"\"\n      }\n    },\n    {\n      \"column\": \"1970 Population\",\n      \"properties\": {\n        \"dtype\": \"number\",\n        \"std\": 67795091,\n        \"min\": 752,\n        \"max\": 822534450,\n        \"num_unique_values\": 234,\n        \"samples\": [\n          46484,\n          35791728,\n          18169\n        ],\n        \"semantic_type\": \"\",\n        \"description\": \"\"\n      }\n    },\n    {\n      \"column\": \"Area (km\\u00b2)\",\n      \"properties\": {\n        \"dtype\": \"number\",\n        \"std\": 1761840,\n        \"min\": 1,\n        \"max\": 17098242,\n        \"num_unique_values\": 233,\n        \"samples\": [\n          245857,\n          241550,\n          752612\n        ],\n        \"semantic_type\": \"\",\n        \"description\": \"\"\n      }\n    },\n    {\n      \"column\": \"Density (per km\\u00b2)\",\n      \"properties\": {\n        \"dtype\": \"number\",\n        \"std\": 2066.1219036046123,\n        \"min\": 0.0261,\n        \"max\": 23172.2667,\n        \"num_unique_values\": 234,\n        \"samples\": [\n          3.6459,\n          139.7276,\n          551.8033\n        ],\n        \"semantic_type\": \"\",\n        \"description\": \"\"\n      }\n    },\n    {\n      \"column\": \"Growth Rate\",\n      \"properties\": {\n        \"dtype\": \"number\",\n        \"std\": 0.01338498453399876,\n        \"min\": 0.912,\n        \"max\": 1.0691,\n        \"num_unique_values\": 180,\n        \"samples\": [\n          1.0038,\n          1.0005,\n          1.0232\n        ],\n        \"semantic_type\": \"\",\n        \"description\": \"\"\n      }\n    },\n    {\n      \"column\": \"World Population Percentage\",\n      \"properties\": {\n        \"dtype\": \"number\",\n        \"std\": 1.7149767768102147,\n        \"min\": 0.0,\n        \"max\": 17.88,\n        \"num_unique_values\": 70,\n        \"samples\": [\n          0.48,\n          0.52,\n          0.47\n        ],\n        \"semantic_type\": \"\",\n        \"description\": \"\"\n      }\n    }\n  ]\n}"
            }
          },
          "metadata": {},
          "execution_count": 7
        }
      ],
      "source": [
        "population_df = pd.read_csv(\"world_population.csv\")\n",
        "\n",
        "population_df.head()"
      ]
    },
    {
      "cell_type": "markdown",
      "source": [
        "\n",
        "\n",
        "### Population Data Preparation\n",
        "\n",
        "To prepare the population dataset for analysis and merging:\n",
        "\n",
        "1. **Renamed the Country Column**\n",
        "   The column `'Country/Territory'` was renamed to `'country'` to standardize column naming and simplify future merging operations.\n",
        "\n",
        "\n",
        "\n",
        "2. **Reshaped the Dataset to Long Format**\n",
        "   The population data was originally in a wide format, with separate columns for each year (e.g., `'2010 Population'`, `'2015 Population'`, etc.). Using `pd.melt`, the dataset was transformed into a **long format**, where each row represents a unique combination of country and year.\n",
        "\n",
        "\n",
        "\n",
        "3. **Extracted and Converted Year Values**\n",
        "   The `year` column originally contained strings like `'2010 Population'`. The four-digit year was extracted using a regular expression, and then converted to an integer for numerical analysis.\n",
        "\n",
        "\n",
        "\n",
        "4. **Displayed a Preview**\n",
        "   Finally, the transformed DataFrame was displayed using `.head()` to verify the result.\n",
        "\n",
        "\n"
      ],
      "metadata": {
        "id": "YwoOQrFoo15U"
      }
    },
    {
      "cell_type": "code",
      "source": [
        "population_df.rename(columns={'Country/Territory': 'country'}, inplace=True)\n",
        "\n",
        "population_long = pd.melt(population_df,\n",
        "                          id_vars=['country'],\n",
        "                          value_vars=['2010 Population', '2015 Population', '2020 Population', '2022 Population'],\n",
        "                          var_name='year',\n",
        "                          value_name='population')\n",
        "\n",
        "\n",
        "population_long['year'] = population_long['year'].str.extract('(\\d{4})').astype(int)\n",
        "\n",
        "print(population_long.head())"
      ],
      "metadata": {
        "colab": {
          "base_uri": "https://localhost:8080/"
        },
        "id": "wkX-F1vzksk5",
        "outputId": "a241e62b-40ab-4959-9343-6cd41149615b"
      },
      "execution_count": 8,
      "outputs": [
        {
          "output_type": "stream",
          "name": "stdout",
          "text": [
            "          country  year  population\n",
            "0     Afghanistan  2010    28189672\n",
            "1         Albania  2010     2913399\n",
            "2         Algeria  2010    35856344\n",
            "3  American Samoa  2010       54849\n",
            "4         Andorra  2010       71519\n"
          ]
        }
      ]
    },
    {
      "cell_type": "code",
      "source": [
        "population_long.info()"
      ],
      "metadata": {
        "colab": {
          "base_uri": "https://localhost:8080/"
        },
        "id": "t9HkQ5V8lfel",
        "outputId": "05885b35-2e09-48af-fbf2-e5e2ff2bcdba"
      },
      "execution_count": 9,
      "outputs": [
        {
          "output_type": "stream",
          "name": "stdout",
          "text": [
            "<class 'pandas.core.frame.DataFrame'>\n",
            "RangeIndex: 936 entries, 0 to 935\n",
            "Data columns (total 3 columns):\n",
            " #   Column      Non-Null Count  Dtype \n",
            "---  ------      --------------  ----- \n",
            " 0   country     936 non-null    object\n",
            " 1   year        936 non-null    int64 \n",
            " 2   population  936 non-null    int64 \n",
            "dtypes: int64(2), object(1)\n",
            "memory usage: 22.1+ KB\n"
          ]
        }
      ]
    },
    {
      "cell_type": "code",
      "source": [
        "gdp_data_reset = gdp_data.reset_index()\n",
        "gdp_data_reset.info()"
      ],
      "metadata": {
        "colab": {
          "base_uri": "https://localhost:8080/"
        },
        "id": "-AlrFEkYlQtZ",
        "outputId": "6e73efb9-197c-43ff-cff3-eae6b388e7e9"
      },
      "execution_count": 10,
      "outputs": [
        {
          "output_type": "stream",
          "name": "stdout",
          "text": [
            "<class 'pandas.core.frame.DataFrame'>\n",
            "RangeIndex: 1596 entries, 0 to 1595\n",
            "Data columns (total 3 columns):\n",
            " #   Column   Non-Null Count  Dtype  \n",
            "---  ------   --------------  -----  \n",
            " 0   country  1596 non-null   object \n",
            " 1   year     1596 non-null   object \n",
            " 2   GDP      1563 non-null   float64\n",
            "dtypes: float64(1), object(2)\n",
            "memory usage: 37.5+ KB\n"
          ]
        }
      ]
    },
    {
      "cell_type": "markdown",
      "source": [
        "\n",
        "\n",
        "### Ensuring Consistent Data Types for Merging\n",
        "\n",
        "To successfully merge the GDP and population datasets, the `year` column in both DataFrames needs to be of the same data type.\n",
        "\n",
        "\n",
        "\n",
        "This line converts the `year` column in the `gdp_data_reset` DataFrame from its current type (`object`) to an integer (`int`). This ensures that it matches the data type of the `year` column in the `population_long` DataFrame, preventing merge errors caused by mismatched types.\n",
        "\n",
        ""
      ],
      "metadata": {
        "id": "BGnTcsbHpLmy"
      }
    },
    {
      "cell_type": "code",
      "source": [
        "gdp_data_reset['year'] = gdp_data_reset['year'].astype(int)"
      ],
      "metadata": {
        "id": "lBvcNtbbl3AE"
      },
      "execution_count": 11,
      "outputs": []
    },
    {
      "cell_type": "markdown",
      "source": [
        "\n",
        "\n",
        "### Merging the Population and GDP Datasets\n",
        "\n",
        "To analyze the relationship between population and GDP across different countries and years, the cleaned population and GDP datasets were merged:\n",
        "\n",
        "\n",
        "\n",
        "This line performs an **inner join** on the `population_long` and `gdp_data_reset` DataFrames using the shared columns `country` and `year`. The result is a new DataFrame, `merged_df`, that includes only the rows where both datasets have matching `country` and `year` values.\n",
        "\n",
        "The merged dataset now contains:\n",
        "\n",
        "* `country`: Name of the country\n",
        "* `year`: Year of the record\n",
        "* `population`: Population count\n",
        "* `GDP`: Gross Domestic Product for that year and country\n",
        "\n",
        "This merged DataFrame serves as the foundation for answering the research question.\n",
        "\n",
        ""
      ],
      "metadata": {
        "id": "vnqyla0opmx7"
      }
    },
    {
      "cell_type": "code",
      "source": [
        "merged_df = pd.merge(population_long, gdp_data_reset, how='inner', on=['country', 'year'])\n",
        "\n",
        "print(merged_df.head())"
      ],
      "metadata": {
        "colab": {
          "base_uri": "https://localhost:8080/"
        },
        "id": "huzZAelsl5qJ",
        "outputId": "22657d37-e8c1-4ce1-f174-c1ed0212d55a"
      },
      "execution_count": 12,
      "outputs": [
        {
          "output_type": "stream",
          "name": "stdout",
          "text": [
            "          country  year  population           GDP\n",
            "0     Afghanistan  2010    28189672  1.585667e+10\n",
            "1         Albania  2010     2913399  1.208655e+10\n",
            "2         Algeria  2010    35856344  1.777851e+11\n",
            "3  American Samoa  2010       54849  5.730000e+08\n",
            "4         Andorra  2010       71519  3.449926e+09\n"
          ]
        }
      ]
    },
    {
      "cell_type": "markdown",
      "metadata": {
        "id": "IMIzKq6SgsrB"
      },
      "source": [
        "Saved the merged raw dataset combining population and GDP data to a local CSV file"
      ]
    },
    {
      "cell_type": "code",
      "execution_count": 13,
      "metadata": {
        "id": "qdI7DeeygsrB"
      },
      "outputs": [],
      "source": [
        "merged_df.to_csv('raw_data_population_gdp.csv', index=False)"
      ]
    },
    {
      "cell_type": "markdown",
      "metadata": {
        "id": "QwSWIVmotLgV"
      },
      "source": [
        "## 2. Assess data\n",
        "\n"
      ]
    },
    {
      "cell_type": "markdown",
      "metadata": {
        "id": "adaK2iPNzVu4"
      },
      "source": [
        "### Quality Issue 1: GDP is stored in scientific notation"
      ]
    },
    {
      "cell_type": "code",
      "execution_count": 14,
      "metadata": {
        "id": "SpW59kh-zl8d",
        "colab": {
          "base_uri": "https://localhost:8080/",
          "height": 206
        },
        "outputId": "75a20442-de80-4bbc-bbf8-fc14ff0e3b1b"
      },
      "outputs": [
        {
          "output_type": "execute_result",
          "data": {
            "text/plain": [
              "          country  year  population           GDP\n",
              "0     Afghanistan  2010    28189672  1.585667e+10\n",
              "1         Albania  2010     2913399  1.208655e+10\n",
              "2         Algeria  2010    35856344  1.777851e+11\n",
              "3  American Samoa  2010       54849  5.730000e+08\n",
              "4         Andorra  2010       71519  3.449926e+09"
            ],
            "text/html": [
              "\n",
              "  <div id=\"df-1d11ac89-d80d-447b-a30f-d2ad720b1191\" class=\"colab-df-container\">\n",
              "    <div>\n",
              "<style scoped>\n",
              "    .dataframe tbody tr th:only-of-type {\n",
              "        vertical-align: middle;\n",
              "    }\n",
              "\n",
              "    .dataframe tbody tr th {\n",
              "        vertical-align: top;\n",
              "    }\n",
              "\n",
              "    .dataframe thead th {\n",
              "        text-align: right;\n",
              "    }\n",
              "</style>\n",
              "<table border=\"1\" class=\"dataframe\">\n",
              "  <thead>\n",
              "    <tr style=\"text-align: right;\">\n",
              "      <th></th>\n",
              "      <th>country</th>\n",
              "      <th>year</th>\n",
              "      <th>population</th>\n",
              "      <th>GDP</th>\n",
              "    </tr>\n",
              "  </thead>\n",
              "  <tbody>\n",
              "    <tr>\n",
              "      <th>0</th>\n",
              "      <td>Afghanistan</td>\n",
              "      <td>2010</td>\n",
              "      <td>28189672</td>\n",
              "      <td>1.585667e+10</td>\n",
              "    </tr>\n",
              "    <tr>\n",
              "      <th>1</th>\n",
              "      <td>Albania</td>\n",
              "      <td>2010</td>\n",
              "      <td>2913399</td>\n",
              "      <td>1.208655e+10</td>\n",
              "    </tr>\n",
              "    <tr>\n",
              "      <th>2</th>\n",
              "      <td>Algeria</td>\n",
              "      <td>2010</td>\n",
              "      <td>35856344</td>\n",
              "      <td>1.777851e+11</td>\n",
              "    </tr>\n",
              "    <tr>\n",
              "      <th>3</th>\n",
              "      <td>American Samoa</td>\n",
              "      <td>2010</td>\n",
              "      <td>54849</td>\n",
              "      <td>5.730000e+08</td>\n",
              "    </tr>\n",
              "    <tr>\n",
              "      <th>4</th>\n",
              "      <td>Andorra</td>\n",
              "      <td>2010</td>\n",
              "      <td>71519</td>\n",
              "      <td>3.449926e+09</td>\n",
              "    </tr>\n",
              "  </tbody>\n",
              "</table>\n",
              "</div>\n",
              "    <div class=\"colab-df-buttons\">\n",
              "\n",
              "  <div class=\"colab-df-container\">\n",
              "    <button class=\"colab-df-convert\" onclick=\"convertToInteractive('df-1d11ac89-d80d-447b-a30f-d2ad720b1191')\"\n",
              "            title=\"Convert this dataframe to an interactive table.\"\n",
              "            style=\"display:none;\">\n",
              "\n",
              "  <svg xmlns=\"http://www.w3.org/2000/svg\" height=\"24px\" viewBox=\"0 -960 960 960\">\n",
              "    <path d=\"M120-120v-720h720v720H120Zm60-500h600v-160H180v160Zm220 220h160v-160H400v160Zm0 220h160v-160H400v160ZM180-400h160v-160H180v160Zm440 0h160v-160H620v160ZM180-180h160v-160H180v160Zm440 0h160v-160H620v160Z\"/>\n",
              "  </svg>\n",
              "    </button>\n",
              "\n",
              "  <style>\n",
              "    .colab-df-container {\n",
              "      display:flex;\n",
              "      gap: 12px;\n",
              "    }\n",
              "\n",
              "    .colab-df-convert {\n",
              "      background-color: #E8F0FE;\n",
              "      border: none;\n",
              "      border-radius: 50%;\n",
              "      cursor: pointer;\n",
              "      display: none;\n",
              "      fill: #1967D2;\n",
              "      height: 32px;\n",
              "      padding: 0 0 0 0;\n",
              "      width: 32px;\n",
              "    }\n",
              "\n",
              "    .colab-df-convert:hover {\n",
              "      background-color: #E2EBFA;\n",
              "      box-shadow: 0px 1px 2px rgba(60, 64, 67, 0.3), 0px 1px 3px 1px rgba(60, 64, 67, 0.15);\n",
              "      fill: #174EA6;\n",
              "    }\n",
              "\n",
              "    .colab-df-buttons div {\n",
              "      margin-bottom: 4px;\n",
              "    }\n",
              "\n",
              "    [theme=dark] .colab-df-convert {\n",
              "      background-color: #3B4455;\n",
              "      fill: #D2E3FC;\n",
              "    }\n",
              "\n",
              "    [theme=dark] .colab-df-convert:hover {\n",
              "      background-color: #434B5C;\n",
              "      box-shadow: 0px 1px 3px 1px rgba(0, 0, 0, 0.15);\n",
              "      filter: drop-shadow(0px 1px 2px rgba(0, 0, 0, 0.3));\n",
              "      fill: #FFFFFF;\n",
              "    }\n",
              "  </style>\n",
              "\n",
              "    <script>\n",
              "      const buttonEl =\n",
              "        document.querySelector('#df-1d11ac89-d80d-447b-a30f-d2ad720b1191 button.colab-df-convert');\n",
              "      buttonEl.style.display =\n",
              "        google.colab.kernel.accessAllowed ? 'block' : 'none';\n",
              "\n",
              "      async function convertToInteractive(key) {\n",
              "        const element = document.querySelector('#df-1d11ac89-d80d-447b-a30f-d2ad720b1191');\n",
              "        const dataTable =\n",
              "          await google.colab.kernel.invokeFunction('convertToInteractive',\n",
              "                                                    [key], {});\n",
              "        if (!dataTable) return;\n",
              "\n",
              "        const docLinkHtml = 'Like what you see? Visit the ' +\n",
              "          '<a target=\"_blank\" href=https://colab.research.google.com/notebooks/data_table.ipynb>data table notebook</a>'\n",
              "          + ' to learn more about interactive tables.';\n",
              "        element.innerHTML = '';\n",
              "        dataTable['output_type'] = 'display_data';\n",
              "        await google.colab.output.renderOutput(dataTable, element);\n",
              "        const docLink = document.createElement('div');\n",
              "        docLink.innerHTML = docLinkHtml;\n",
              "        element.appendChild(docLink);\n",
              "      }\n",
              "    </script>\n",
              "  </div>\n",
              "\n",
              "\n",
              "    <div id=\"df-a9eb2926-bb9e-401a-9251-d7f4e607eeac\">\n",
              "      <button class=\"colab-df-quickchart\" onclick=\"quickchart('df-a9eb2926-bb9e-401a-9251-d7f4e607eeac')\"\n",
              "                title=\"Suggest charts\"\n",
              "                style=\"display:none;\">\n",
              "\n",
              "<svg xmlns=\"http://www.w3.org/2000/svg\" height=\"24px\"viewBox=\"0 0 24 24\"\n",
              "     width=\"24px\">\n",
              "    <g>\n",
              "        <path d=\"M19 3H5c-1.1 0-2 .9-2 2v14c0 1.1.9 2 2 2h14c1.1 0 2-.9 2-2V5c0-1.1-.9-2-2-2zM9 17H7v-7h2v7zm4 0h-2V7h2v10zm4 0h-2v-4h2v4z\"/>\n",
              "    </g>\n",
              "</svg>\n",
              "      </button>\n",
              "\n",
              "<style>\n",
              "  .colab-df-quickchart {\n",
              "      --bg-color: #E8F0FE;\n",
              "      --fill-color: #1967D2;\n",
              "      --hover-bg-color: #E2EBFA;\n",
              "      --hover-fill-color: #174EA6;\n",
              "      --disabled-fill-color: #AAA;\n",
              "      --disabled-bg-color: #DDD;\n",
              "  }\n",
              "\n",
              "  [theme=dark] .colab-df-quickchart {\n",
              "      --bg-color: #3B4455;\n",
              "      --fill-color: #D2E3FC;\n",
              "      --hover-bg-color: #434B5C;\n",
              "      --hover-fill-color: #FFFFFF;\n",
              "      --disabled-bg-color: #3B4455;\n",
              "      --disabled-fill-color: #666;\n",
              "  }\n",
              "\n",
              "  .colab-df-quickchart {\n",
              "    background-color: var(--bg-color);\n",
              "    border: none;\n",
              "    border-radius: 50%;\n",
              "    cursor: pointer;\n",
              "    display: none;\n",
              "    fill: var(--fill-color);\n",
              "    height: 32px;\n",
              "    padding: 0;\n",
              "    width: 32px;\n",
              "  }\n",
              "\n",
              "  .colab-df-quickchart:hover {\n",
              "    background-color: var(--hover-bg-color);\n",
              "    box-shadow: 0 1px 2px rgba(60, 64, 67, 0.3), 0 1px 3px 1px rgba(60, 64, 67, 0.15);\n",
              "    fill: var(--button-hover-fill-color);\n",
              "  }\n",
              "\n",
              "  .colab-df-quickchart-complete:disabled,\n",
              "  .colab-df-quickchart-complete:disabled:hover {\n",
              "    background-color: var(--disabled-bg-color);\n",
              "    fill: var(--disabled-fill-color);\n",
              "    box-shadow: none;\n",
              "  }\n",
              "\n",
              "  .colab-df-spinner {\n",
              "    border: 2px solid var(--fill-color);\n",
              "    border-color: transparent;\n",
              "    border-bottom-color: var(--fill-color);\n",
              "    animation:\n",
              "      spin 1s steps(1) infinite;\n",
              "  }\n",
              "\n",
              "  @keyframes spin {\n",
              "    0% {\n",
              "      border-color: transparent;\n",
              "      border-bottom-color: var(--fill-color);\n",
              "      border-left-color: var(--fill-color);\n",
              "    }\n",
              "    20% {\n",
              "      border-color: transparent;\n",
              "      border-left-color: var(--fill-color);\n",
              "      border-top-color: var(--fill-color);\n",
              "    }\n",
              "    30% {\n",
              "      border-color: transparent;\n",
              "      border-left-color: var(--fill-color);\n",
              "      border-top-color: var(--fill-color);\n",
              "      border-right-color: var(--fill-color);\n",
              "    }\n",
              "    40% {\n",
              "      border-color: transparent;\n",
              "      border-right-color: var(--fill-color);\n",
              "      border-top-color: var(--fill-color);\n",
              "    }\n",
              "    60% {\n",
              "      border-color: transparent;\n",
              "      border-right-color: var(--fill-color);\n",
              "    }\n",
              "    80% {\n",
              "      border-color: transparent;\n",
              "      border-right-color: var(--fill-color);\n",
              "      border-bottom-color: var(--fill-color);\n",
              "    }\n",
              "    90% {\n",
              "      border-color: transparent;\n",
              "      border-bottom-color: var(--fill-color);\n",
              "    }\n",
              "  }\n",
              "</style>\n",
              "\n",
              "      <script>\n",
              "        async function quickchart(key) {\n",
              "          const quickchartButtonEl =\n",
              "            document.querySelector('#' + key + ' button');\n",
              "          quickchartButtonEl.disabled = true;  // To prevent multiple clicks.\n",
              "          quickchartButtonEl.classList.add('colab-df-spinner');\n",
              "          try {\n",
              "            const charts = await google.colab.kernel.invokeFunction(\n",
              "                'suggestCharts', [key], {});\n",
              "          } catch (error) {\n",
              "            console.error('Error during call to suggestCharts:', error);\n",
              "          }\n",
              "          quickchartButtonEl.classList.remove('colab-df-spinner');\n",
              "          quickchartButtonEl.classList.add('colab-df-quickchart-complete');\n",
              "        }\n",
              "        (() => {\n",
              "          let quickchartButtonEl =\n",
              "            document.querySelector('#df-a9eb2926-bb9e-401a-9251-d7f4e607eeac button');\n",
              "          quickchartButtonEl.style.display =\n",
              "            google.colab.kernel.accessAllowed ? 'block' : 'none';\n",
              "        })();\n",
              "      </script>\n",
              "    </div>\n",
              "\n",
              "    </div>\n",
              "  </div>\n"
            ],
            "application/vnd.google.colaboratory.intrinsic+json": {
              "type": "dataframe",
              "variable_name": "merged_df",
              "summary": "{\n  \"name\": \"merged_df\",\n  \"rows\": 366,\n  \"fields\": [\n    {\n      \"column\": \"country\",\n      \"properties\": {\n        \"dtype\": \"string\",\n        \"num_unique_values\": 183,\n        \"samples\": [\n          \"Benin\",\n          \"Cuba\",\n          \"South Sudan\"\n        ],\n        \"semantic_type\": \"\",\n        \"description\": \"\"\n      }\n    },\n    {\n      \"column\": \"year\",\n      \"properties\": {\n        \"dtype\": \"number\",\n        \"std\": 2,\n        \"min\": 2010,\n        \"max\": 2015,\n        \"num_unique_values\": 2,\n        \"samples\": [\n          2015,\n          2010\n        ],\n        \"semantic_type\": \"\",\n        \"description\": \"\"\n      }\n    },\n    {\n      \"column\": \"population\",\n      \"properties\": {\n        \"dtype\": \"number\",\n        \"std\": 142692305,\n        \"min\": 10241,\n        \"max\": 1393715448,\n        \"num_unique_values\": 366,\n        \"samples\": [\n          23820236,\n          54074\n        ],\n        \"semantic_type\": \"\",\n        \"description\": \"\"\n      }\n    },\n    {\n      \"column\": \"GDP\",\n      \"properties\": {\n        \"dtype\": \"number\",\n        \"std\": 1520749548474.0374,\n        \"min\": 32105408.4771121,\n        \"max\": 18295019000000.0,\n        \"num_unique_values\": 361,\n        \"samples\": [\n          881909300.0,\n          2142591540.40068\n        ],\n        \"semantic_type\": \"\",\n        \"description\": \"\"\n      }\n    }\n  ]\n}"
            }
          },
          "metadata": {},
          "execution_count": 14
        }
      ],
      "source": [
        "merged_df.head()"
      ]
    },
    {
      "cell_type": "code",
      "execution_count": 15,
      "metadata": {
        "id": "-qfcocStzsKg",
        "colab": {
          "base_uri": "https://localhost:8080/"
        },
        "outputId": "a6056ba6-6fc4-443c-bf7e-726e6e6b9751"
      },
      "outputs": [
        {
          "output_type": "execute_result",
          "data": {
            "text/plain": [
              "dtype('float64')"
            ]
          },
          "metadata": {},
          "execution_count": 15
        }
      ],
      "source": [
        "merged_df['GDP'].dtype"
      ]
    },
    {
      "cell_type": "markdown",
      "metadata": {
        "id": "sEcPzhurgsrD"
      },
      "source": [
        "Issue and justification: *The GDP values are in scientific notation (e.g., 1.58e+10), which can make the data harder to interpret and compare at a glance. While this doesn’t affect computation, it's a data presentation issue that impacts data readability, especially for non-technical stakeholders. It’s better to format large numbers for clarity using .apply() with formatting when needed.*"
      ]
    },
    {
      "cell_type": "markdown",
      "metadata": {
        "id": "8Be77N4I1AmE"
      },
      "source": [
        "### Quality Issue 2: `year` column was stored as object instead of integer"
      ]
    },
    {
      "cell_type": "markdown",
      "metadata": {
        "id": "IbgLYNI-gsrF"
      },
      "source": [
        "Issue and justification: Having `year` as an `object` (i.e., string) can cause problems when performing numerical operations, sorting based on `year`. This issue was addressed by converting the column to an integer type using `.astype(int)` earlier, which ensures **data consistency**"
      ]
    },
    {
      "cell_type": "markdown",
      "metadata": {
        "id": "lXhGiYyiwwKN"
      },
      "source": [
        "### Tidiness Issue 1:No GDP per capita column exists (derived variable missing)"
      ]
    },
    {
      "cell_type": "code",
      "execution_count": 16,
      "metadata": {
        "id": "fleC5rORI0Xl",
        "colab": {
          "base_uri": "https://localhost:8080/",
          "height": 206
        },
        "outputId": "2d718b91-6ec9-4f64-8171-ccbd527ffb66"
      },
      "outputs": [
        {
          "output_type": "execute_result",
          "data": {
            "text/plain": [
              "          country  year  population           GDP\n",
              "0     Afghanistan  2010    28189672  1.585667e+10\n",
              "1         Albania  2010     2913399  1.208655e+10\n",
              "2         Algeria  2010    35856344  1.777851e+11\n",
              "3  American Samoa  2010       54849  5.730000e+08\n",
              "4         Andorra  2010       71519  3.449926e+09"
            ],
            "text/html": [
              "\n",
              "  <div id=\"df-a6015dec-3db9-4b38-aba2-a8a5a95a0ca7\" class=\"colab-df-container\">\n",
              "    <div>\n",
              "<style scoped>\n",
              "    .dataframe tbody tr th:only-of-type {\n",
              "        vertical-align: middle;\n",
              "    }\n",
              "\n",
              "    .dataframe tbody tr th {\n",
              "        vertical-align: top;\n",
              "    }\n",
              "\n",
              "    .dataframe thead th {\n",
              "        text-align: right;\n",
              "    }\n",
              "</style>\n",
              "<table border=\"1\" class=\"dataframe\">\n",
              "  <thead>\n",
              "    <tr style=\"text-align: right;\">\n",
              "      <th></th>\n",
              "      <th>country</th>\n",
              "      <th>year</th>\n",
              "      <th>population</th>\n",
              "      <th>GDP</th>\n",
              "    </tr>\n",
              "  </thead>\n",
              "  <tbody>\n",
              "    <tr>\n",
              "      <th>0</th>\n",
              "      <td>Afghanistan</td>\n",
              "      <td>2010</td>\n",
              "      <td>28189672</td>\n",
              "      <td>1.585667e+10</td>\n",
              "    </tr>\n",
              "    <tr>\n",
              "      <th>1</th>\n",
              "      <td>Albania</td>\n",
              "      <td>2010</td>\n",
              "      <td>2913399</td>\n",
              "      <td>1.208655e+10</td>\n",
              "    </tr>\n",
              "    <tr>\n",
              "      <th>2</th>\n",
              "      <td>Algeria</td>\n",
              "      <td>2010</td>\n",
              "      <td>35856344</td>\n",
              "      <td>1.777851e+11</td>\n",
              "    </tr>\n",
              "    <tr>\n",
              "      <th>3</th>\n",
              "      <td>American Samoa</td>\n",
              "      <td>2010</td>\n",
              "      <td>54849</td>\n",
              "      <td>5.730000e+08</td>\n",
              "    </tr>\n",
              "    <tr>\n",
              "      <th>4</th>\n",
              "      <td>Andorra</td>\n",
              "      <td>2010</td>\n",
              "      <td>71519</td>\n",
              "      <td>3.449926e+09</td>\n",
              "    </tr>\n",
              "  </tbody>\n",
              "</table>\n",
              "</div>\n",
              "    <div class=\"colab-df-buttons\">\n",
              "\n",
              "  <div class=\"colab-df-container\">\n",
              "    <button class=\"colab-df-convert\" onclick=\"convertToInteractive('df-a6015dec-3db9-4b38-aba2-a8a5a95a0ca7')\"\n",
              "            title=\"Convert this dataframe to an interactive table.\"\n",
              "            style=\"display:none;\">\n",
              "\n",
              "  <svg xmlns=\"http://www.w3.org/2000/svg\" height=\"24px\" viewBox=\"0 -960 960 960\">\n",
              "    <path d=\"M120-120v-720h720v720H120Zm60-500h600v-160H180v160Zm220 220h160v-160H400v160Zm0 220h160v-160H400v160ZM180-400h160v-160H180v160Zm440 0h160v-160H620v160ZM180-180h160v-160H180v160Zm440 0h160v-160H620v160Z\"/>\n",
              "  </svg>\n",
              "    </button>\n",
              "\n",
              "  <style>\n",
              "    .colab-df-container {\n",
              "      display:flex;\n",
              "      gap: 12px;\n",
              "    }\n",
              "\n",
              "    .colab-df-convert {\n",
              "      background-color: #E8F0FE;\n",
              "      border: none;\n",
              "      border-radius: 50%;\n",
              "      cursor: pointer;\n",
              "      display: none;\n",
              "      fill: #1967D2;\n",
              "      height: 32px;\n",
              "      padding: 0 0 0 0;\n",
              "      width: 32px;\n",
              "    }\n",
              "\n",
              "    .colab-df-convert:hover {\n",
              "      background-color: #E2EBFA;\n",
              "      box-shadow: 0px 1px 2px rgba(60, 64, 67, 0.3), 0px 1px 3px 1px rgba(60, 64, 67, 0.15);\n",
              "      fill: #174EA6;\n",
              "    }\n",
              "\n",
              "    .colab-df-buttons div {\n",
              "      margin-bottom: 4px;\n",
              "    }\n",
              "\n",
              "    [theme=dark] .colab-df-convert {\n",
              "      background-color: #3B4455;\n",
              "      fill: #D2E3FC;\n",
              "    }\n",
              "\n",
              "    [theme=dark] .colab-df-convert:hover {\n",
              "      background-color: #434B5C;\n",
              "      box-shadow: 0px 1px 3px 1px rgba(0, 0, 0, 0.15);\n",
              "      filter: drop-shadow(0px 1px 2px rgba(0, 0, 0, 0.3));\n",
              "      fill: #FFFFFF;\n",
              "    }\n",
              "  </style>\n",
              "\n",
              "    <script>\n",
              "      const buttonEl =\n",
              "        document.querySelector('#df-a6015dec-3db9-4b38-aba2-a8a5a95a0ca7 button.colab-df-convert');\n",
              "      buttonEl.style.display =\n",
              "        google.colab.kernel.accessAllowed ? 'block' : 'none';\n",
              "\n",
              "      async function convertToInteractive(key) {\n",
              "        const element = document.querySelector('#df-a6015dec-3db9-4b38-aba2-a8a5a95a0ca7');\n",
              "        const dataTable =\n",
              "          await google.colab.kernel.invokeFunction('convertToInteractive',\n",
              "                                                    [key], {});\n",
              "        if (!dataTable) return;\n",
              "\n",
              "        const docLinkHtml = 'Like what you see? Visit the ' +\n",
              "          '<a target=\"_blank\" href=https://colab.research.google.com/notebooks/data_table.ipynb>data table notebook</a>'\n",
              "          + ' to learn more about interactive tables.';\n",
              "        element.innerHTML = '';\n",
              "        dataTable['output_type'] = 'display_data';\n",
              "        await google.colab.output.renderOutput(dataTable, element);\n",
              "        const docLink = document.createElement('div');\n",
              "        docLink.innerHTML = docLinkHtml;\n",
              "        element.appendChild(docLink);\n",
              "      }\n",
              "    </script>\n",
              "  </div>\n",
              "\n",
              "\n",
              "    <div id=\"df-fdddfe47-74da-4101-b586-82718eb721ca\">\n",
              "      <button class=\"colab-df-quickchart\" onclick=\"quickchart('df-fdddfe47-74da-4101-b586-82718eb721ca')\"\n",
              "                title=\"Suggest charts\"\n",
              "                style=\"display:none;\">\n",
              "\n",
              "<svg xmlns=\"http://www.w3.org/2000/svg\" height=\"24px\"viewBox=\"0 0 24 24\"\n",
              "     width=\"24px\">\n",
              "    <g>\n",
              "        <path d=\"M19 3H5c-1.1 0-2 .9-2 2v14c0 1.1.9 2 2 2h14c1.1 0 2-.9 2-2V5c0-1.1-.9-2-2-2zM9 17H7v-7h2v7zm4 0h-2V7h2v10zm4 0h-2v-4h2v4z\"/>\n",
              "    </g>\n",
              "</svg>\n",
              "      </button>\n",
              "\n",
              "<style>\n",
              "  .colab-df-quickchart {\n",
              "      --bg-color: #E8F0FE;\n",
              "      --fill-color: #1967D2;\n",
              "      --hover-bg-color: #E2EBFA;\n",
              "      --hover-fill-color: #174EA6;\n",
              "      --disabled-fill-color: #AAA;\n",
              "      --disabled-bg-color: #DDD;\n",
              "  }\n",
              "\n",
              "  [theme=dark] .colab-df-quickchart {\n",
              "      --bg-color: #3B4455;\n",
              "      --fill-color: #D2E3FC;\n",
              "      --hover-bg-color: #434B5C;\n",
              "      --hover-fill-color: #FFFFFF;\n",
              "      --disabled-bg-color: #3B4455;\n",
              "      --disabled-fill-color: #666;\n",
              "  }\n",
              "\n",
              "  .colab-df-quickchart {\n",
              "    background-color: var(--bg-color);\n",
              "    border: none;\n",
              "    border-radius: 50%;\n",
              "    cursor: pointer;\n",
              "    display: none;\n",
              "    fill: var(--fill-color);\n",
              "    height: 32px;\n",
              "    padding: 0;\n",
              "    width: 32px;\n",
              "  }\n",
              "\n",
              "  .colab-df-quickchart:hover {\n",
              "    background-color: var(--hover-bg-color);\n",
              "    box-shadow: 0 1px 2px rgba(60, 64, 67, 0.3), 0 1px 3px 1px rgba(60, 64, 67, 0.15);\n",
              "    fill: var(--button-hover-fill-color);\n",
              "  }\n",
              "\n",
              "  .colab-df-quickchart-complete:disabled,\n",
              "  .colab-df-quickchart-complete:disabled:hover {\n",
              "    background-color: var(--disabled-bg-color);\n",
              "    fill: var(--disabled-fill-color);\n",
              "    box-shadow: none;\n",
              "  }\n",
              "\n",
              "  .colab-df-spinner {\n",
              "    border: 2px solid var(--fill-color);\n",
              "    border-color: transparent;\n",
              "    border-bottom-color: var(--fill-color);\n",
              "    animation:\n",
              "      spin 1s steps(1) infinite;\n",
              "  }\n",
              "\n",
              "  @keyframes spin {\n",
              "    0% {\n",
              "      border-color: transparent;\n",
              "      border-bottom-color: var(--fill-color);\n",
              "      border-left-color: var(--fill-color);\n",
              "    }\n",
              "    20% {\n",
              "      border-color: transparent;\n",
              "      border-left-color: var(--fill-color);\n",
              "      border-top-color: var(--fill-color);\n",
              "    }\n",
              "    30% {\n",
              "      border-color: transparent;\n",
              "      border-left-color: var(--fill-color);\n",
              "      border-top-color: var(--fill-color);\n",
              "      border-right-color: var(--fill-color);\n",
              "    }\n",
              "    40% {\n",
              "      border-color: transparent;\n",
              "      border-right-color: var(--fill-color);\n",
              "      border-top-color: var(--fill-color);\n",
              "    }\n",
              "    60% {\n",
              "      border-color: transparent;\n",
              "      border-right-color: var(--fill-color);\n",
              "    }\n",
              "    80% {\n",
              "      border-color: transparent;\n",
              "      border-right-color: var(--fill-color);\n",
              "      border-bottom-color: var(--fill-color);\n",
              "    }\n",
              "    90% {\n",
              "      border-color: transparent;\n",
              "      border-bottom-color: var(--fill-color);\n",
              "    }\n",
              "  }\n",
              "</style>\n",
              "\n",
              "      <script>\n",
              "        async function quickchart(key) {\n",
              "          const quickchartButtonEl =\n",
              "            document.querySelector('#' + key + ' button');\n",
              "          quickchartButtonEl.disabled = true;  // To prevent multiple clicks.\n",
              "          quickchartButtonEl.classList.add('colab-df-spinner');\n",
              "          try {\n",
              "            const charts = await google.colab.kernel.invokeFunction(\n",
              "                'suggestCharts', [key], {});\n",
              "          } catch (error) {\n",
              "            console.error('Error during call to suggestCharts:', error);\n",
              "          }\n",
              "          quickchartButtonEl.classList.remove('colab-df-spinner');\n",
              "          quickchartButtonEl.classList.add('colab-df-quickchart-complete');\n",
              "        }\n",
              "        (() => {\n",
              "          let quickchartButtonEl =\n",
              "            document.querySelector('#df-fdddfe47-74da-4101-b586-82718eb721ca button');\n",
              "          quickchartButtonEl.style.display =\n",
              "            google.colab.kernel.accessAllowed ? 'block' : 'none';\n",
              "        })();\n",
              "      </script>\n",
              "    </div>\n",
              "\n",
              "    </div>\n",
              "  </div>\n"
            ],
            "application/vnd.google.colaboratory.intrinsic+json": {
              "type": "dataframe",
              "variable_name": "merged_df",
              "summary": "{\n  \"name\": \"merged_df\",\n  \"rows\": 366,\n  \"fields\": [\n    {\n      \"column\": \"country\",\n      \"properties\": {\n        \"dtype\": \"string\",\n        \"num_unique_values\": 183,\n        \"samples\": [\n          \"Benin\",\n          \"Cuba\",\n          \"South Sudan\"\n        ],\n        \"semantic_type\": \"\",\n        \"description\": \"\"\n      }\n    },\n    {\n      \"column\": \"year\",\n      \"properties\": {\n        \"dtype\": \"number\",\n        \"std\": 2,\n        \"min\": 2010,\n        \"max\": 2015,\n        \"num_unique_values\": 2,\n        \"samples\": [\n          2015,\n          2010\n        ],\n        \"semantic_type\": \"\",\n        \"description\": \"\"\n      }\n    },\n    {\n      \"column\": \"population\",\n      \"properties\": {\n        \"dtype\": \"number\",\n        \"std\": 142692305,\n        \"min\": 10241,\n        \"max\": 1393715448,\n        \"num_unique_values\": 366,\n        \"samples\": [\n          23820236,\n          54074\n        ],\n        \"semantic_type\": \"\",\n        \"description\": \"\"\n      }\n    },\n    {\n      \"column\": \"GDP\",\n      \"properties\": {\n        \"dtype\": \"number\",\n        \"std\": 1520749548474.0374,\n        \"min\": 32105408.4771121,\n        \"max\": 18295019000000.0,\n        \"num_unique_values\": 361,\n        \"samples\": [\n          881909300.0,\n          2142591540.40068\n        ],\n        \"semantic_type\": \"\",\n        \"description\": \"\"\n      }\n    }\n  ]\n}"
            }
          },
          "metadata": {},
          "execution_count": 16
        }
      ],
      "source": [
        "merged_df.head()"
      ]
    },
    {
      "cell_type": "code",
      "execution_count": 17,
      "metadata": {
        "id": "BTuQw7Rbsio4",
        "colab": {
          "base_uri": "https://localhost:8080/"
        },
        "outputId": "38df0385-3cc4-41e2-fac1-396a74861109"
      },
      "outputs": [
        {
          "output_type": "execute_result",
          "data": {
            "text/plain": [
              "False"
            ]
          },
          "metadata": {},
          "execution_count": 17
        }
      ],
      "source": [
        "'GDP_per_capita' in merged_df.columns  # returns False"
      ]
    },
    {
      "cell_type": "markdown",
      "metadata": {
        "id": "HMb_3jY0gsrG"
      },
      "source": [
        "Issue and justification: For analysis purposes, GDP per capita is a more meaningful metric than raw GDP. This derived column is essential for analysis . Not having it means the dataset is not tidy enough for immediate analysis, since the key variable needs to be created manually."
      ]
    },
    {
      "cell_type": "markdown",
      "metadata": {
        "id": "4ffMoRGSwzYj"
      },
      "source": [
        "### Tidiness Issue 2: No standardized naming or codes for countries"
      ]
    },
    {
      "cell_type": "code",
      "execution_count": 18,
      "metadata": {
        "id": "XUpeoqokw5Qt",
        "colab": {
          "base_uri": "https://localhost:8080/"
        },
        "outputId": "c444d44e-17db-4209-f019-452b19f65ded"
      },
      "outputs": [
        {
          "output_type": "execute_result",
          "data": {
            "text/plain": [
              "array(['Afghanistan', 'Albania', 'Algeria', 'American Samoa', 'Andorra',\n",
              "       'Angola', 'Antigua and Barbuda', 'Argentina', 'Armenia', 'Aruba',\n",
              "       'Australia', 'Austria', 'Azerbaijan', 'Bahrain', 'Bangladesh',\n",
              "       'Barbados', 'Belarus', 'Belgium', 'Belize', 'Benin', 'Bermuda',\n",
              "       'Bhutan', 'Bolivia', 'Bosnia and Herzegovina', 'Botswana',\n",
              "       'Brazil', 'British Virgin Islands', 'Bulgaria', 'Burkina Faso',\n",
              "       'Burundi', 'Cambodia', 'Cameroon', 'Canada', 'Cayman Islands',\n",
              "       'Central African Republic', 'Chad', 'Chile', 'China', 'Colombia',\n",
              "       'Comoros', 'Costa Rica', 'Croatia', 'Cuba', 'Curacao', 'Cyprus',\n",
              "       'Denmark', 'Djibouti', 'Dominica', 'Dominican Republic', 'Ecuador',\n",
              "       'El Salvador', 'Equatorial Guinea', 'Eritrea', 'Estonia',\n",
              "       'Eswatini', 'Ethiopia', 'Faroe Islands', 'Fiji', 'Finland',\n",
              "       'France', 'French Polynesia', 'Gabon', 'Georgia', 'Germany',\n",
              "       'Ghana', 'Gibraltar', 'Greece', 'Greenland', 'Grenada', 'Guam',\n",
              "       'Guatemala', 'Guinea', 'Guinea-Bissau', 'Guyana', 'Haiti',\n",
              "       'Honduras', 'Hungary', 'Iceland', 'India', 'Indonesia', 'Iraq',\n",
              "       'Ireland', 'Isle of Man', 'Israel', 'Italy', 'Jamaica', 'Japan',\n",
              "       'Jordan', 'Kazakhstan', 'Kenya', 'Kiribati', 'Kuwait', 'Latvia',\n",
              "       'Lebanon', 'Lesotho', 'Liberia', 'Libya', 'Liechtenstein',\n",
              "       'Lithuania', 'Luxembourg', 'Madagascar', 'Malawi', 'Malaysia',\n",
              "       'Maldives', 'Mali', 'Malta', 'Marshall Islands', 'Mauritania',\n",
              "       'Mauritius', 'Mexico', 'Moldova', 'Monaco', 'Mongolia',\n",
              "       'Montenegro', 'Morocco', 'Mozambique', 'Myanmar', 'Namibia',\n",
              "       'Nauru', 'Nepal', 'Netherlands', 'New Caledonia', 'New Zealand',\n",
              "       'Nicaragua', 'Niger', 'Nigeria', 'North Macedonia',\n",
              "       'Northern Mariana Islands', 'Norway', 'Oman', 'Pakistan', 'Palau',\n",
              "       'Panama', 'Papua New Guinea', 'Paraguay', 'Peru', 'Philippines',\n",
              "       'Poland', 'Portugal', 'Qatar', 'Romania', 'Rwanda', 'Samoa',\n",
              "       'San Marino', 'Sao Tome and Principe', 'Saudi Arabia', 'Senegal',\n",
              "       'Serbia', 'Seychelles', 'Sierra Leone', 'Singapore', 'Slovenia',\n",
              "       'Solomon Islands', 'Somalia', 'South Africa', 'South Sudan',\n",
              "       'Spain', 'Sri Lanka', 'Sudan', 'Suriname', 'Sweden', 'Switzerland',\n",
              "       'Tajikistan', 'Tanzania', 'Thailand', 'Timor-Leste', 'Togo',\n",
              "       'Tonga', 'Trinidad and Tobago', 'Tunisia', 'Turkmenistan',\n",
              "       'Turks and Caicos Islands', 'Tuvalu', 'Uganda', 'Ukraine',\n",
              "       'United Arab Emirates', 'United Kingdom', 'United States',\n",
              "       'Uruguay', 'Uzbekistan', 'Vanuatu', 'Zambia', 'Zimbabwe'],\n",
              "      dtype=object)"
            ]
          },
          "metadata": {},
          "execution_count": 18
        }
      ],
      "source": [
        "merged_df['country'].unique()"
      ]
    },
    {
      "cell_type": "code",
      "execution_count": 19,
      "metadata": {
        "id": "c8JK4DoXxtFA",
        "colab": {
          "base_uri": "https://localhost:8080/"
        },
        "outputId": "bd53cc42-b035-4b0c-e1fd-423914f9f562"
      },
      "outputs": [
        {
          "output_type": "execute_result",
          "data": {
            "text/plain": [
              "np.int64(66)"
            ]
          },
          "metadata": {},
          "execution_count": 19
        }
      ],
      "source": [
        "merged_df['country'].str.contains(' ').sum()"
      ]
    },
    {
      "cell_type": "markdown",
      "metadata": {
        "id": "s_E6cZacgsrH"
      },
      "source": [
        "Issue and justification: There are 66 country names that contain spaces (e.g., \"American Samoa\", \"New Zealand\"), which may lead to issues in merging with external datasets that use standardized country codes (like ISO-3 or alpha-2). The dataset would benefit from using a separate `country_code` column for consistency and easier integration."
      ]
    },
    {
      "cell_type": "markdown",
      "metadata": {
        "id": "D6gmLnBttpCh"
      },
      "source": [
        "## 3. Clean data\n"
      ]
    },
    {
      "cell_type": "code",
      "execution_count": 20,
      "metadata": {
        "id": "3kJUjbuMgsrI"
      },
      "outputs": [],
      "source": [
        "#copies of the datasets to ensure the raw dataframes are not impacted\n",
        "cleaned_df = merged_df.copy()"
      ]
    },
    {
      "cell_type": "markdown",
      "metadata": {
        "id": "FmFhN52Yyn3l"
      },
      "source": [
        "### **Quality Issue 1**: GDP is in scientific notation"
      ]
    },
    {
      "cell_type": "markdown",
      "source": [
        "**Cleaning Strategy:**\n",
        "\n",
        "Format the GDP values into a more readable form for presentation, without altering the underlying float format used in computation."
      ],
      "metadata": {
        "id": "LNtFvGhNRagl"
      }
    },
    {
      "cell_type": "code",
      "execution_count": 33,
      "metadata": {
        "id": "9UejDWrNMW4a"
      },
      "outputs": [],
      "source": [
        "cleaned_df['GDP_display'] = cleaned_df['GDP'].apply(lambda x: f\"{x:,.0f}\")"
      ]
    },
    {
      "cell_type": "code",
      "execution_count": 34,
      "metadata": {
        "id": "oUBee-LPytkv",
        "colab": {
          "base_uri": "https://localhost:8080/"
        },
        "outputId": "45789bd2-55f4-4ae9-d6d5-4b1de274f36e"
      },
      "outputs": [
        {
          "output_type": "stream",
          "name": "stdout",
          "text": [
            "            GDP      GDP_display\n",
            "0  1.585667e+10   15,856,668,556\n",
            "1  1.208655e+10   12,086,545,641\n",
            "2  1.777851e+11  177,785,053,940\n",
            "3  5.730000e+08      573,000,000\n",
            "4  3.449926e+09    3,449,925,739\n"
          ]
        }
      ],
      "source": [
        "print(cleaned_df[['GDP', 'GDP_display']].head())"
      ]
    },
    {
      "cell_type": "markdown",
      "metadata": {
        "id": "CGU4GIUXgsrI"
      },
      "source": [
        "Justification: GDP in float format is useful for calculations, but human-friendly formatting helps in communication and reporting."
      ]
    },
    {
      "cell_type": "markdown",
      "metadata": {
        "id": "n_DAUbJrymBL"
      },
      "source": [
        "### **Quality Issue 2:** Year column as object"
      ]
    },
    {
      "cell_type": "markdown",
      "source": [
        "Already resolved earlier using:"
      ],
      "metadata": {
        "id": "Do1aivfURpNe"
      }
    },
    {
      "cell_type": "code",
      "execution_count": 35,
      "metadata": {
        "id": "5Yfb-Yu5MTuE"
      },
      "outputs": [],
      "source": [
        "gdp_data_reset['year'] = gdp_data_reset['year'].astype(int)"
      ]
    },
    {
      "cell_type": "markdown",
      "metadata": {
        "id": "A7ygD1Nqgsrk"
      },
      "source": [
        "Justification: Ensures proper sorting and filtering by year in analysis.\n",
        "\n"
      ]
    },
    {
      "cell_type": "markdown",
      "metadata": {
        "id": "bIUrrfSNyOPR"
      },
      "source": [
        "### **Tidiness Issue 1:** Missing GDP per capita column"
      ]
    },
    {
      "cell_type": "markdown",
      "source": [
        "**Cleaning Strategy:**\n",
        "\n",
        "Create a new column dividing GDP by population."
      ],
      "metadata": {
        "id": "MJ3xZzG-R8af"
      }
    },
    {
      "cell_type": "code",
      "execution_count": 36,
      "metadata": {
        "id": "fib0zAm333bn"
      },
      "outputs": [],
      "source": [
        "cleaned_df['GDP_per_capita'] = cleaned_df['GDP'] / cleaned_df['population']"
      ]
    },
    {
      "cell_type": "code",
      "execution_count": 37,
      "metadata": {
        "id": "yhrnUGY_Nk8B",
        "colab": {
          "base_uri": "https://localhost:8080/"
        },
        "outputId": "b866f47d-7ab8-4d87-967b-ec0bb6d1d992"
      },
      "outputs": [
        {
          "output_type": "stream",
          "name": "stdout",
          "text": [
            "          country  year  GDP_per_capita\n",
            "0     Afghanistan  2010      562.499222\n",
            "1         Albania  2010     4148.606367\n",
            "2         Algeria  2010     4958.259379\n",
            "3  American Samoa  2010    10446.863206\n",
            "4         Andorra  2010    48237.891174\n"
          ]
        }
      ],
      "source": [
        "print(cleaned_df[['country', 'year', 'GDP_per_capita']].head())"
      ]
    },
    {
      "cell_type": "markdown",
      "metadata": {
        "id": "3UMk_4LRgsrl"
      },
      "source": [
        "Justification: GDP per capita is essential for evaluating economic output on a per-person basis and answering our research question."
      ]
    },
    {
      "cell_type": "markdown",
      "metadata": {
        "id": "o51Bt8kwyTzk"
      },
      "source": [
        "### **Tidiness Issue 2:** No standardized naming or codes for countries"
      ]
    },
    {
      "cell_type": "markdown",
      "source": [
        "**Cleaning Strategy:**\n",
        "\n",
        "Map country names to ISO Alpha-3 codes for consistency using `pycountry`.\n",
        "\n"
      ],
      "metadata": {
        "id": "qLo-xpImSR0S"
      }
    },
    {
      "cell_type": "code",
      "execution_count": 38,
      "metadata": {
        "id": "7zW8O5yx4Y9O",
        "colab": {
          "base_uri": "https://localhost:8080/"
        },
        "outputId": "fbb8190a-c6c8-480c-815e-dd0a388f8e15"
      },
      "outputs": [
        {
          "output_type": "stream",
          "name": "stdout",
          "text": [
            "Collecting pycountry\n",
            "  Downloading pycountry-24.6.1-py3-none-any.whl.metadata (12 kB)\n",
            "Downloading pycountry-24.6.1-py3-none-any.whl (6.3 MB)\n",
            "\u001b[?25l   \u001b[90m━━━━━━━━━━━━━━━━━━━━━━━━━━━━━━━━━━━━━━━━\u001b[0m \u001b[32m0.0/6.3 MB\u001b[0m \u001b[31m?\u001b[0m eta \u001b[36m-:--:--\u001b[0m\r\u001b[2K   \u001b[91m━━━━━━━━━━━━━━━━━━━━━━━━━━━━━━━━━━━━━━━\u001b[0m\u001b[91m╸\u001b[0m \u001b[32m6.3/6.3 MB\u001b[0m \u001b[31m188.3 MB/s\u001b[0m eta \u001b[36m0:00:01\u001b[0m\r\u001b[2K   \u001b[90m━━━━━━━━━━━━━━━━━━━━━━━━━━━━━━━━━━━━━━━━\u001b[0m \u001b[32m6.3/6.3 MB\u001b[0m \u001b[31m104.3 MB/s\u001b[0m eta \u001b[36m0:00:00\u001b[0m\n",
            "\u001b[?25hInstalling collected packages: pycountry\n",
            "Successfully installed pycountry-24.6.1\n"
          ]
        }
      ],
      "source": [
        "!pip install pycountry"
      ]
    },
    {
      "cell_type": "code",
      "source": [
        "import pycountry\n",
        "\n",
        "# Helper function\n",
        "def get_country_code(name):\n",
        "    try:\n",
        "        return pycountry.countries.lookup(name).alpha_3\n",
        "    except:\n",
        "        return None\n",
        "\n",
        "cleaned_df['country_code'] = cleaned_df['country'].apply(get_country_code)"
      ],
      "metadata": {
        "id": "jGHHwxKSSsLV"
      },
      "execution_count": 39,
      "outputs": []
    },
    {
      "cell_type": "code",
      "execution_count": 40,
      "metadata": {
        "id": "q6I_Sr7lxXi5",
        "colab": {
          "base_uri": "https://localhost:8080/"
        },
        "outputId": "52f1a0be-6284-48a5-da1c-406ff81977fd"
      },
      "outputs": [
        {
          "output_type": "execute_result",
          "data": {
            "text/plain": [
              "np.int64(2)"
            ]
          },
          "metadata": {},
          "execution_count": 40
        }
      ],
      "source": [
        "cleaned_df['country_code'].isnull().sum()"
      ]
    },
    {
      "cell_type": "markdown",
      "metadata": {
        "id": "UGs4Yg2Ngsrm"
      },
      "source": [
        "Justification: Facilitates future dataset merging and integration with other standardized datasets.\n",
        "\n"
      ]
    },
    {
      "cell_type": "markdown",
      "metadata": {
        "id": "HJAEh6-Hgsrm"
      },
      "source": [
        "### **Remove unnecessary variables and combine datasets**\n",
        "\n"
      ]
    },
    {
      "cell_type": "code",
      "execution_count": 41,
      "metadata": {
        "id": "xzs12B7pgsrm"
      },
      "outputs": [],
      "source": [
        "cleaned_df_final = cleaned_df[['country', 'country_code', 'year', 'population', 'GDP', 'GDP_per_capita']]"
      ]
    },
    {
      "cell_type": "markdown",
      "metadata": {
        "id": "F42urHuzttjF"
      },
      "source": [
        "## 4. Update your data store\n",
        "Update your local database/data store with the cleaned data, following best practices for storing your cleaned data:\n",
        "\n",
        "- Must maintain different instances / versions of data (raw and cleaned data)\n",
        "- Must name the dataset files informatively\n",
        "- Ensure both the raw and cleaned data is saved to your database/data store"
      ]
    },
    {
      "cell_type": "code",
      "execution_count": 42,
      "metadata": {
        "id": "V3uay7EJUV_L"
      },
      "outputs": [],
      "source": [
        "# Save cleaned version\n",
        "cleaned_df_final.to_csv('cleaned_data_population_gdp.csv', index=False)"
      ]
    },
    {
      "cell_type": "markdown",
      "metadata": {
        "id": "cGy_yddGtzhM"
      },
      "source": [
        "## 5. Answer the research question\n",
        "\n",
        "### **5.1:** Define and answer the research question\n"
      ]
    },
    {
      "cell_type": "markdown",
      "metadata": {
        "id": "gjedE4s4ZkEd"
      },
      "source": [
        "*Research question:* Is there a clear relationship between a country's population size and the level of income per person (GDP per capita)?"
      ]
    },
    {
      "cell_type": "markdown",
      "source": [
        "##Scatter Plot – Population vs GDP per Capita"
      ],
      "metadata": {
        "id": "46Emx4dATSjP"
      }
    },
    {
      "cell_type": "code",
      "execution_count": 43,
      "metadata": {
        "id": "Lkw3rW9kZmOm",
        "colab": {
          "base_uri": "https://localhost:8080/",
          "height": 569
        },
        "outputId": "de617fe0-7542-4e16-ed38-7bcbd0ab8449"
      },
      "outputs": [
        {
          "output_type": "display_data",
          "data": {
            "text/plain": [
              "<Figure size 1000x600 with 1 Axes>"
            ],
            "image/png": "[encoded data removed]"
          },
          "metadata": {}
        }
      ],
      "source": [
        "import matplotlib.pyplot as plt\n",
        "import seaborn as sns\n",
        "\n",
        "plt.figure(figsize=(10, 6))\n",
        "sns.scatterplot(data=cleaned_df_final, x='population', y='GDP_per_capita')\n",
        "plt.title('Population vs. GDP per Capita')\n",
        "plt.xlabel('Population')\n",
        "plt.ylabel('GDP per Capita (USD)')\n",
        "plt.xscale('log')  # Log scale for better spread\n",
        "plt.yscale('log')\n",
        "plt.grid(True)\n",
        "plt.show()"
      ]
    },
    {
      "cell_type": "markdown",
      "metadata": {
        "id": "9Q6DGkLggsrn"
      },
      "source": [
        "This plot shows a weak negative trend, especially for highly populated countries. However, exceptions exist (e.g., small populations with low GDP per capita, and large populations with high income like the US). Overall, a strong consistent relationship is not clearly visible, suggesting other variables influence GDP per capita.\n",
        "\n"
      ]
    },
    {
      "cell_type": "markdown",
      "source": [
        "##Box Plot – GDP per Capita Distribution by Population Groups"
      ],
      "metadata": {
        "id": "JC-MCIbPTxEG"
      }
    },
    {
      "cell_type": "code",
      "execution_count": 44,
      "metadata": {
        "id": "6fdK_8ZGZm9R",
        "colab": {
          "base_uri": "https://localhost:8080/",
          "height": 564
        },
        "outputId": "0092d17a-8aa7-475b-af3f-4864d3b3f9cd"
      },
      "outputs": [
        {
          "output_type": "display_data",
          "data": {
            "text/plain": [
              "<Figure size 1000x600 with 1 Axes>"
            ],
            "image/png": "[encoded data removed]"
          },
          "metadata": {}
        }
      ],
      "source": [
        "cleaned_df_final['population_bin'] = pd.qcut(cleaned_df_final['population'], q=4, labels=['Low', 'Medium', 'High', 'Very High'])\n",
        "\n",
        "plt.figure(figsize=(10, 6))\n",
        "sns.boxplot(data=cleaned_df_final, x='population_bin', y='GDP_per_capita')\n",
        "plt.title('GDP per Capita Distribution by Population Group')\n",
        "plt.xlabel('Population Size Group')\n",
        "plt.ylabel('GDP per Capita')\n",
        "plt.yscale('log')\n",
        "plt.grid(True)\n",
        "plt.show()"
      ]
    },
    {
      "cell_type": "markdown",
      "metadata": {
        "id": "K5RgvMGUZoHn"
      },
      "source": [
        "This visualization shows that countries with lower populations tend to have more variation in GDP per capita, including some very high-income countries. However, no clear upward or downward trend is observed across population bins. Hence, population size alone is not a reliable predictor of GDP per capita."
      ]
    },
    {
      "cell_type": "markdown",
      "metadata": {
        "id": "0ezWXXZVj-TP"
      },
      "source": [
        "### **5.2:** Reflection\n",
        "**If I had more time**, I would incorporate additional socioeconomic variables like education levels, employment rates, natural resources, and trade openness to build a multivariate model explaining GDP per capita. I would also handle unmatched country names in the `pycountry` mapping more robustly and explore panel data analysis over a longer time span (e.g., 2000–2022) to analyze trends over time."
      ]
    }
  ],
  "metadata": {
    "colab": {
      "provenance": []
    },
    "kernelspec": {
      "display_name": "Python 3 (ipykernel)",
      "language": "python",
      "name": "python3"
    },
    "language_info": {
      "codemirror_mode": {
        "name": "ipython",
        "version": 3
      },
      "file_extension": ".py",
      "mimetype": "text/x-python",
      "name": "python",
      "nbconvert_exporter": "python",
      "pygments_lexer": "ipython3",
      "version": "3.10.11"
    }
  },
  "nbformat": 4,
  "nbformat_minor": 0
}